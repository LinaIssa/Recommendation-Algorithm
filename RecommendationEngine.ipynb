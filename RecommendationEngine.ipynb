{
 "cells": [
  {
   "cell_type": "markdown",
   "id": "08542888-8a31-45c0-aa77-a47be608d08b",
   "metadata": {},
   "source": [
    "# Test Technique : Système de recommendation d'offres d'emploi à des candidats\n",
    "On cherche à recommender des offres d'emploi à des candidats identifiés respectivement par leurs *jobID* et *userID*. Pour cela, on dispose de:\n",
    "- un fichier jobs.cv: descrption des différents offres d'emplois\n",
    "- un fichier users.csv : description des profils des candidats \n",
    "- un fichier users_history.csv qui répertorie l'historique de certains candidats \n",
    "- un fichier feedback.csv qui rensigne sur les interactions des candidats avec les annonces \n",
    "- un fichier test_users.csv sur lequel on cherche à faire les recommendations d'emplois\n",
    "\n",
    "On propose un système de recommendation qui s'appuie sur les interactions *usersID* et *jobsID* issus du fichier feedback.csv. Ces interactions étant sous la forme d'évenements ( *viewed*, *applied* et *hired*), il nous faut alors tenir compte de l'aspect **implicite** des feedbacks. C'est pourquoi, on a choisi une approche de type **Collaborative FIltering** en implémentant la méthode **ALS** (*Alternating Least Squares*)  de la librairie implicit pour modéliser les interactions users-jobs. \n",
    "Ensuite, ne disposant pas de feedbacks pour les candidats issus du fichier test_users.csv, on utilise certains features pertinents pour trouver des similitudes entre les candidats test et les candidats du fichier users.csv. On effectue cette mesure de similitude avec **cosine_similarity** de sklearn.\n",
    "\n",
    "## Structure du notebook\n",
    "\n",
    " 1) Exploratory data analysis \n",
    " 2) Correspondances entre les candidats test et les candidats de \"training\"\n",
    " 3) Implémentation du modèle de recommendation: entrainement sur les données d'interactions et recommendations sur les candidats tests \n",
    " 4) Evaluation des performances du modèle et discussion des limites\n"
   ]
  },
  {
   "cell_type": "markdown",
   "id": "607f34bd-41e3-4349-8134-c098030db735",
   "metadata": {},
   "source": [
    "## Importing useful librairies"
   ]
  },
  {
   "cell_type": "code",
   "execution_count": 1,
   "id": "de29316c-5d4d-4806-a4e5-c3a026521139",
   "metadata": {},
   "outputs": [
    {
     "data": {
      "text/html": [
       "        <script type=\"text/javascript\">\n",
       "        window.PlotlyConfig = {MathJaxConfig: 'local'};\n",
       "        if (window.MathJax && window.MathJax.Hub && window.MathJax.Hub.Config) {window.MathJax.Hub.Config({SVG: {font: \"STIX-Web\"}});}\n",
       "        if (typeof require !== 'undefined') {\n",
       "        require.undef(\"plotly\");\n",
       "        requirejs.config({\n",
       "            paths: {\n",
       "                'plotly': ['https://cdn.plot.ly/plotly-2.12.1.min']\n",
       "            }\n",
       "        });\n",
       "        require(['plotly'], function(Plotly) {\n",
       "            window._Plotly = Plotly;\n",
       "        });\n",
       "        }\n",
       "        </script>\n",
       "        "
      ]
     },
     "metadata": {},
     "output_type": "display_data"
    }
   ],
   "source": [
    "import implicit  # for tackling implicit feedback in Collaborative Filtering \n",
    "import os\n",
    "import ml_metrics\n",
    "import matplotlib\n",
    "\n",
    "import pandas            as pd  # to store data \n",
    "import numpy             as np  \n",
    "\n",
    "# For Plotting purposes : \n",
    "import seaborn           as sns\n",
    "import matplotlib.pyplot as plt \n",
    "import plotly.graph_objs as go\n",
    "\n",
    "import scipy.sparse      as sparse\n",
    "\n",
    "from plotly.offline                  import init_notebook_mode, plot, iplot\n",
    "from sklearn.model_selection         import train_test_split\n",
    "from sklearn.preprocessing           import OneHotEncoder, StandardScaler\n",
    "from sklearn.cluster                 import KMeans \n",
    "from sklearn.metrics.pairwise        import cosine_similarity\n",
    "from sklearn.feature_extraction.text import CountVectorizer\n",
    "\n",
    "init_notebook_mode(connected=True)"
   ]
  },
  {
   "cell_type": "markdown",
   "id": "e1a43c1f-ee75-4152-9aca-ec2748e91b9c",
   "metadata": {},
   "source": [
    "## 1) Exploratory Data Analysis\n",
    "Loading datasets: "
   ]
  },
  {
   "cell_type": "code",
   "execution_count": 2,
   "id": "b5aea0c3-23b1-4601-a1aa-a64bd287bcad",
   "metadata": {
    "tags": []
   },
   "outputs": [],
   "source": [
    "data_jobs     = pd.read_csv('./test-technique-data/data/jobs.csv')\n",
    "data_user     = pd.read_csv('./test-technique-data/data/users.csv')\n",
    "data_feedback = pd.read_csv('./test-technique-data/data/feedbacks.csv')\n",
    "data_history  = pd.read_csv('./test-technique-data/data/users_history.csv')\n",
    "data_test     = pd.read_csv('./test-technique-data/data/test_users.csv')"
   ]
  },
  {
   "cell_type": "markdown",
   "id": "5e91ce0e-ec7b-494e-abf9-831306174715",
   "metadata": {},
   "source": [
    "Dans la suite, on utilisera les candidates issus de data_user pour l'entrainement du modèle et les candidats issus de data_test pour les recommendations "
   ]
  },
  {
   "cell_type": "code",
   "execution_count": 3,
   "id": "cb880aed-a4d3-4d56-ad95-0848239e7574",
   "metadata": {
    "tags": []
   },
   "outputs": [
    {
     "name": "stdout",
     "output_type": "stream",
     "text": [
      " The dataset jobs.csv: \n",
      "\n",
      " Number of rows: 4291\n",
      " Number of columns: 11 \n",
      "\n",
      " The dataset users.csv: \n",
      "\n",
      " Number of rows: 2337\n",
      " Number of columns: 14 \n",
      "\n",
      " The dataset feedback.csv: \n",
      "\n",
      " Number of rows: 28928\n",
      " Number of columns: 3\n",
      "\n",
      " The dataset history.csv: \n",
      "\n",
      " Number of rows: 11012\n",
      " Number of columns: 4\n",
      "Number of users that have left a feedback 1861\n"
     ]
    }
   ],
   "source": [
    "print(' The dataset jobs.csv: \\n')\n",
    "print(f' Number of rows: {data_jobs.shape[0]}\\n Number of columns: {data_jobs.shape[1]} \\n')\n",
    "print(' The dataset users.csv: \\n')\n",
    "print(f' Number of rows: {data_user.shape[0]}\\n Number of columns: {data_user.shape[1]} \\n')\n",
    "print(' The dataset feedback.csv: \\n')\n",
    "print(f' Number of rows: {data_feedback.shape[0]}\\n Number of columns: {data_feedback.shape[1]}\\n')\n",
    "print(' The dataset history.csv: \\n')\n",
    "print(f' Number of rows: {data_history.shape[0]}\\n Number of columns: {data_history.shape[1]}')\n",
    "print(f'Number of users that have left a feedback {len(data_feedback.UserID.unique())}')"
   ]
  },
  {
   "cell_type": "code",
   "execution_count": 4,
   "id": "d16c4c25-d6be-4caf-b5e4-bcb1d863b493",
   "metadata": {},
   "outputs": [
    {
     "name": "stdout",
     "output_type": "stream",
     "text": [
      "Number of different jobs:  4291\n",
      "Number of different jobs categories :  195\n",
      "Number of different registred users:  2337\n",
      "Number of different users in feedback.csv:  1861\n",
      "Number of different jobs in feedback.csv:  3149\n",
      "Number of different users in history.csv:  2509\n",
      "79.63 % of registred candidates have a feedback\n"
     ]
    }
   ],
   "source": [
    "print('Number of different jobs: ', len(data_jobs.JobID.unique()))\n",
    "print('Number of different jobs categories : ', len(data_jobs.JobCategoryID.unique()))\n",
    "\n",
    "print('Number of different registred users: ', len(data_user.UserID.unique()))\n",
    "print('Number of different users in feedback.csv: ', len(data_feedback.UserID.unique()))\n",
    "print('Number of different jobs in feedback.csv: ', len(data_feedback.JobID.unique()))\n",
    "print('Number of different users in history.csv: ', len(data_history.UserID.unique()))\n",
    "print(f'{len(data_feedback.UserID.unique())/ len(data_user.UserID.unique()) * 100:.2f} % of registred candidates have a feedback')"
   ]
  },
  {
   "cell_type": "markdown",
   "id": "75f114ca-b3e8-4bdf-ac31-671528523cca",
   "metadata": {},
   "source": [
    "Dans users.csv, chaque ligne correspond à un candidat différent. De même pour jobs.csv où chaque ligne renvoie à un job différent. Environ $80 \\%$ des candidats ont laissé un feedback sur les offres d'emploi.\n"
   ]
  },
  {
   "cell_type": "code",
   "execution_count": 5,
   "id": "b67c410d-23d5-4057-bbb8-7f54fb931552",
   "metadata": {},
   "outputs": [
    {
     "name": "stdout",
     "output_type": "stream",
     "text": [
      "Number of missing values in jobs.csv:\n",
      " JobID               0\n",
      "Title               0\n",
      "Description         0\n",
      "Requirements      266\n",
      "City                0\n",
      "State               0\n",
      "Country             0\n",
      "Zip5             1195\n",
      "StartDate           0\n",
      "EndDate             0\n",
      "JobCategoryID       0\n",
      "dtype: int64 \n",
      "\n",
      "Number of missing values in users.csv:\n",
      " UserID                    0\n",
      "City                      0\n",
      "State                     0\n",
      "Country                   0\n",
      "ZipCode                   2\n",
      "DegreeType                0\n",
      "Major                   588\n",
      "GraduationDate          705\n",
      "WorkHistoryCount          0\n",
      "TotalYearsExperience     77\n",
      "CurrentlyEmployed       322\n",
      "ManagedOthers             0\n",
      "ManagedHowMany            0\n",
      "MajorCategoryID         588\n",
      "dtype: int64 \n",
      "\n",
      "Number of missing values in feedbacks.csv:\n",
      " UserID    0\n",
      "JobID     0\n",
      "Event     0\n",
      "dtype: int64 \n",
      "\n",
      "Number of missing values in user_history.csv:\n",
      " UserID           0\n",
      "Sequence         0\n",
      "JobTitle         0\n",
      "JobCategoryID    0\n",
      "dtype: int64\n"
     ]
    }
   ],
   "source": [
    "print('Number of missing values in jobs.csv:\\n',data_jobs.isnull().sum(), '\\n')\n",
    "\n",
    "print('Number of missing values in users.csv:\\n',data_user.isnull().sum(), '\\n')\n",
    "print('Number of missing values in feedbacks.csv:\\n',data_feedback.isnull().sum(), '\\n')\n",
    "\n",
    "print('Number of missing values in user_history.csv:\\n',data_history.isnull().sum())\n"
   ]
  },
  {
   "cell_type": "markdown",
   "id": "4fe7f1c1-d12b-44e9-9a68-e8bfef11d67b",
   "metadata": {},
   "source": [
    "A présent, on s'interesse à la distribution des catégories d'emploi au sein des offres:"
   ]
  },
  {
   "cell_type": "code",
   "execution_count": 6,
   "id": "049cd047-d8ab-4633-a1fb-ae2fa56cc8db",
   "metadata": {
    "tags": []
   },
   "outputs": [
    {
     "data": {
      "text/plain": [
       "Text(0.5, 1.0, 'Distribution of the jobs categories')"
      ]
     },
     "execution_count": 6,
     "metadata": {},
     "output_type": "execute_result"
    },
    {
     "data": {
      "image/png": "[encoded data removed]",
      "text/plain": [
       "<Figure size 432x288 with 1 Axes>"
      ]
     },
     "metadata": {
      "needs_background": "light"
     },
     "output_type": "display_data"
    }
   ],
   "source": [
    "JobCatDic = {}\n",
    "for jobCat in np.sort(data_jobs.JobCategoryID.value_counts().index):\n",
    "    index  = np.where(data_jobs.JobCategoryID==jobCat)\n",
    "    JobCatDic[jobCat] =  data_jobs.JobID.iloc[index].values.tolist()\n",
    "data_jobs.JobCategoryID.value_counts()\n",
    "\n",
    "ax = data_jobs.JobCategoryID.hist(grid=False)\n",
    "ax.set_ylabel('Counts')\n",
    "ax.set_title('Distribution of the jobs categories')"
   ]
  },
  {
   "cell_type": "markdown",
   "id": "8249935b-d70d-433a-b24b-baff6c0b51eb",
   "metadata": {},
   "source": [
    "On peut comparer cette distribution avec celle qui ressort de l'historique des candidats "
   ]
  },
  {
   "cell_type": "code",
   "execution_count": 7,
   "id": "9f4b632f-a556-4309-9bbe-9f996cb775ec",
   "metadata": {},
   "outputs": [
    {
     "data": {
      "text/plain": [
       "Text(0.5, 1.0, 'Distribution of the jobs categories')"
      ]
     },
     "execution_count": 7,
     "metadata": {},
     "output_type": "execute_result"
    },
    {
     "data": {
      "image/png": "[encoded data removed]",
      "text/plain": [
       "<Figure size 432x288 with 1 Axes>"
      ]
     },
     "metadata": {
      "needs_background": "light"
     },
     "output_type": "display_data"
    }
   ],
   "source": [
    "data_history.JobCategoryID.value_counts()\n",
    "\n",
    "ax = data_history.JobCategoryID.hist(grid=False)\n",
    "ax.set_ylabel('Counts')\n",
    "ax.set_title('Distribution of the jobs categories')"
   ]
  },
  {
   "cell_type": "markdown",
   "id": "d2869b07-a60e-4039-957e-cdd09de1b612",
   "metadata": {},
   "source": [
    "La distribution des offres d'emploi dans l'historique des candidats reflète celle issue du fichier jobs.csv. Certaines catégories sont sruprésentées dans les deux cas. \n",
    "\n",
    "\n",
    "On regarde à présent la distribution des feedbacks "
   ]
  },
  {
   "cell_type": "code",
   "execution_count": 8,
   "id": "4f81afec-8a29-4212-960e-6fb208aea77e",
   "metadata": {},
   "outputs": [
    {
     "data": {
      "text/plain": [
       "Index(['viewed', 'applied', 'hired'], dtype='object')"
      ]
     },
     "execution_count": 8,
     "metadata": {},
     "output_type": "execute_result"
    }
   ],
   "source": [
    "data_feedback.Event.value_counts().index"
   ]
  },
  {
   "cell_type": "code",
   "execution_count": 9,
   "id": "94921096-57d9-4ab3-951b-9c0ce0fe58a2",
   "metadata": {},
   "outputs": [
    {
     "data": {
      "application/vnd.plotly.v1+json": {
       "config": {
        "linkText": "Export to plot.ly",
        "plotlyServerURL": "https://plot.ly",
        "showLink": false
       },
       "data": [
        {
         "marker": {
          "color": "#db0000"
         },
         "text": [
          "64.4 %",
          "32.5 %",
          "3.2 %"
         ],
         "textfont": {
          "color": "#000000"
         },
         "textposition": "auto",
         "type": "bar",
         "x": [
          "viewed",
          "applied",
          "hired"
         ],
         "y": [
          18620,
          9395,
          913
         ]
        }
       ],
       "layout": {
        "autosize": false,
        "height": 500,
        "template": {
         "data": {
          "bar": [
           {
            "error_x": {
             "color": "#2a3f5f"
            },
            "error_y": {
             "color": "#2a3f5f"
            },
            "marker": {
             "line": {
              "color": "#E5ECF6",
              "width": 0.5
             },
             "pattern": {
              "fillmode": "overlay",
              "size": 10,
              "solidity": 0.2
             }
            },
            "type": "bar"
           }
          ],
          "barpolar": [
           {
            "marker": {
             "line": {
              "color": "#E5ECF6",
              "width": 0.5
             },
             "pattern": {
              "fillmode": "overlay",
              "size": 10,
              "solidity": 0.2
             }
            },
            "type": "barpolar"
           }
          ],
          "carpet": [
           {
            "aaxis": {
             "endlinecolor": "#2a3f5f",
             "gridcolor": "white",
             "linecolor": "white",
             "minorgridcolor": "white",
             "startlinecolor": "#2a3f5f"
            },
            "baxis": {
             "endlinecolor": "#2a3f5f",
             "gridcolor": "white",
             "linecolor": "white",
             "minorgridcolor": "white",
             "startlinecolor": "#2a3f5f"
            },
            "type": "carpet"
           }
          ],
          "choropleth": [
           {
            "colorbar": {
             "outlinewidth": 0,
             "ticks": ""
            },
            "type": "choropleth"
           }
          ],
          "contour": [
           {
            "colorbar": {
             "outlinewidth": 0,
             "ticks": ""
            },
            "colorscale": [
             [
              0,
              "#0d0887"
             ],
             [
              0.1111111111111111,
              "#46039f"
             ],
             [
              0.2222222222222222,
              "#7201a8"
             ],
             [
              0.3333333333333333,
              "#9c179e"
             ],
             [
              0.4444444444444444,
              "#bd3786"
             ],
             [
              0.5555555555555556,
              "#d8576b"
             ],
             [
              0.6666666666666666,
              "#ed7953"
             ],
             [
              0.7777777777777778,
              "#fb9f3a"
             ],
             [
              0.8888888888888888,
              "#fdca26"
             ],
             [
              1,
              "#f0f921"
             ]
            ],
            "type": "contour"
           }
          ],
          "contourcarpet": [
           {
            "colorbar": {
             "outlinewidth": 0,
             "ticks": ""
            },
            "type": "contourcarpet"
           }
          ],
          "heatmap": [
           {
            "colorbar": {
             "outlinewidth": 0,
             "ticks": ""
            },
            "colorscale": [
             [
              0,
              "#0d0887"
             ],
             [
              0.1111111111111111,
              "#46039f"
             ],
             [
              0.2222222222222222,
              "#7201a8"
             ],
             [
              0.3333333333333333,
              "#9c179e"
             ],
             [
              0.4444444444444444,
              "#bd3786"
             ],
             [
              0.5555555555555556,
              "#d8576b"
             ],
             [
              0.6666666666666666,
              "#ed7953"
             ],
             [
              0.7777777777777778,
              "#fb9f3a"
             ],
             [
              0.8888888888888888,
              "#fdca26"
             ],
             [
              1,
              "#f0f921"
             ]
            ],
            "type": "heatmap"
           }
          ],
          "heatmapgl": [
           {
            "colorbar": {
             "outlinewidth": 0,
             "ticks": ""
            },
            "colorscale": [
             [
              0,
              "#0d0887"
             ],
             [
              0.1111111111111111,
              "#46039f"
             ],
             [
              0.2222222222222222,
              "#7201a8"
             ],
             [
              0.3333333333333333,
              "#9c179e"
             ],
             [
              0.4444444444444444,
              "#bd3786"
             ],
             [
              0.5555555555555556,
              "#d8576b"
             ],
             [
              0.6666666666666666,
              "#ed7953"
             ],
             [
              0.7777777777777778,
              "#fb9f3a"
             ],
             [
              0.8888888888888888,
              "#fdca26"
             ],
             [
              1,
              "#f0f921"
             ]
            ],
            "type": "heatmapgl"
           }
          ],
          "histogram": [
           {
            "marker": {
             "pattern": {
              "fillmode": "overlay",
              "size": 10,
              "solidity": 0.2
             }
            },
            "type": "histogram"
           }
          ],
          "histogram2d": [
           {
            "colorbar": {
             "outlinewidth": 0,
             "ticks": ""
            },
            "colorscale": [
             [
              0,
              "#0d0887"
             ],
             [
              0.1111111111111111,
              "#46039f"
             ],
             [
              0.2222222222222222,
              "#7201a8"
             ],
             [
              0.3333333333333333,
              "#9c179e"
             ],
             [
              0.4444444444444444,
              "#bd3786"
             ],
             [
              0.5555555555555556,
              "#d8576b"
             ],
             [
              0.6666666666666666,
              "#ed7953"
             ],
             [
              0.7777777777777778,
              "#fb9f3a"
             ],
             [
              0.8888888888888888,
              "#fdca26"
             ],
             [
              1,
              "#f0f921"
             ]
            ],
            "type": "histogram2d"
           }
          ],
          "histogram2dcontour": [
           {
            "colorbar": {
             "outlinewidth": 0,
             "ticks": ""
            },
            "colorscale": [
             [
              0,
              "#0d0887"
             ],
             [
              0.1111111111111111,
              "#46039f"
             ],
             [
              0.2222222222222222,
              "#7201a8"
             ],
             [
              0.3333333333333333,
              "#9c179e"
             ],
             [
              0.4444444444444444,
              "#bd3786"
             ],
             [
              0.5555555555555556,
              "#d8576b"
             ],
             [
              0.6666666666666666,
              "#ed7953"
             ],
             [
              0.7777777777777778,
              "#fb9f3a"
             ],
             [
              0.8888888888888888,
              "#fdca26"
             ],
             [
              1,
              "#f0f921"
             ]
            ],
            "type": "histogram2dcontour"
           }
          ],
          "mesh3d": [
           {
            "colorbar": {
             "outlinewidth": 0,
             "ticks": ""
            },
            "type": "mesh3d"
           }
          ],
          "parcoords": [
           {
            "line": {
             "colorbar": {
              "outlinewidth": 0,
              "ticks": ""
             }
            },
            "type": "parcoords"
           }
          ],
          "pie": [
           {
            "automargin": true,
            "type": "pie"
           }
          ],
          "scatter": [
           {
            "fillpattern": {
             "fillmode": "overlay",
             "size": 10,
             "solidity": 0.2
            },
            "type": "scatter"
           }
          ],
          "scatter3d": [
           {
            "line": {
             "colorbar": {
              "outlinewidth": 0,
              "ticks": ""
             }
            },
            "marker": {
             "colorbar": {
              "outlinewidth": 0,
              "ticks": ""
             }
            },
            "type": "scatter3d"
           }
          ],
          "scattercarpet": [
           {
            "marker": {
             "colorbar": {
              "outlinewidth": 0,
              "ticks": ""
             }
            },
            "type": "scattercarpet"
           }
          ],
          "scattergeo": [
           {
            "marker": {
             "colorbar": {
              "outlinewidth": 0,
              "ticks": ""
             }
            },
            "type": "scattergeo"
           }
          ],
          "scattergl": [
           {
            "marker": {
             "colorbar": {
              "outlinewidth": 0,
              "ticks": ""
             }
            },
            "type": "scattergl"
           }
          ],
          "scattermapbox": [
           {
            "marker": {
             "colorbar": {
              "outlinewidth": 0,
              "ticks": ""
             }
            },
            "type": "scattermapbox"
           }
          ],
          "scatterpolar": [
           {
            "marker": {
             "colorbar": {
              "outlinewidth": 0,
              "ticks": ""
             }
            },
            "type": "scatterpolar"
           }
          ],
          "scatterpolargl": [
           {
            "marker": {
             "colorbar": {
              "outlinewidth": 0,
              "ticks": ""
             }
            },
            "type": "scatterpolargl"
           }
          ],
          "scatterternary": [
           {
            "marker": {
             "colorbar": {
              "outlinewidth": 0,
              "ticks": ""
             }
            },
            "type": "scatterternary"
           }
          ],
          "surface": [
           {
            "colorbar": {
             "outlinewidth": 0,
             "ticks": ""
            },
            "colorscale": [
             [
              0,
              "#0d0887"
             ],
             [
              0.1111111111111111,
              "#46039f"
             ],
             [
              0.2222222222222222,
              "#7201a8"
             ],
             [
              0.3333333333333333,
              "#9c179e"
             ],
             [
              0.4444444444444444,
              "#bd3786"
             ],
             [
              0.5555555555555556,
              "#d8576b"
             ],
             [
              0.6666666666666666,
              "#ed7953"
             ],
             [
              0.7777777777777778,
              "#fb9f3a"
             ],
             [
              0.8888888888888888,
              "#fdca26"
             ],
             [
              1,
              "#f0f921"
             ]
            ],
            "type": "surface"
           }
          ],
          "table": [
           {
            "cells": {
             "fill": {
              "color": "#EBF0F8"
             },
             "line": {
              "color": "white"
             }
            },
            "header": {
             "fill": {
              "color": "#C8D4E3"
             },
             "line": {
              "color": "white"
             }
            },
            "type": "table"
           }
          ]
         },
         "layout": {
          "annotationdefaults": {
           "arrowcolor": "#2a3f5f",
           "arrowhead": 0,
           "arrowwidth": 1
          },
          "autotypenumbers": "strict",
          "coloraxis": {
           "colorbar": {
            "outlinewidth": 0,
            "ticks": ""
           }
          },
          "colorscale": {
           "diverging": [
            [
             0,
             "#8e0152"
            ],
            [
             0.1,
             "#c51b7d"
            ],
            [
             0.2,
             "#de77ae"
            ],
            [
             0.3,
             "#f1b6da"
            ],
            [
             0.4,
             "#fde0ef"
            ],
            [
             0.5,
             "#f7f7f7"
            ],
            [
             0.6,
             "#e6f5d0"
            ],
            [
             0.7,
             "#b8e186"
            ],
            [
             0.8,
             "#7fbc41"
            ],
            [
             0.9,
             "#4d9221"
            ],
            [
             1,
             "#276419"
            ]
           ],
           "sequential": [
            [
             0,
             "#0d0887"
            ],
            [
             0.1111111111111111,
             "#46039f"
            ],
            [
             0.2222222222222222,
             "#7201a8"
            ],
            [
             0.3333333333333333,
             "#9c179e"
            ],
            [
             0.4444444444444444,
             "#bd3786"
            ],
            [
             0.5555555555555556,
             "#d8576b"
            ],
            [
             0.6666666666666666,
             "#ed7953"
            ],
            [
             0.7777777777777778,
             "#fb9f3a"
            ],
            [
             0.8888888888888888,
             "#fdca26"
            ],
            [
             1,
             "#f0f921"
            ]
           ],
           "sequentialminus": [
            [
             0,
             "#0d0887"
            ],
            [
             0.1111111111111111,
             "#46039f"
            ],
            [
             0.2222222222222222,
             "#7201a8"
            ],
            [
             0.3333333333333333,
             "#9c179e"
            ],
            [
             0.4444444444444444,
             "#bd3786"
            ],
            [
             0.5555555555555556,
             "#d8576b"
            ],
            [
             0.6666666666666666,
             "#ed7953"
            ],
            [
             0.7777777777777778,
             "#fb9f3a"
            ],
            [
             0.8888888888888888,
             "#fdca26"
            ],
            [
             1,
             "#f0f921"
            ]
           ]
          },
          "colorway": [
           "#636efa",
           "#EF553B",
           "#00cc96",
           "#ab63fa",
           "#FFA15A",
           "#19d3f3",
           "#FF6692",
           "#B6E880",
           "#FF97FF",
           "#FECB52"
          ],
          "font": {
           "color": "#2a3f5f"
          },
          "geo": {
           "bgcolor": "white",
           "lakecolor": "white",
           "landcolor": "#E5ECF6",
           "showlakes": true,
           "showland": true,
           "subunitcolor": "white"
          },
          "hoverlabel": {
           "align": "left"
          },
          "hovermode": "closest",
          "mapbox": {
           "style": "light"
          },
          "paper_bgcolor": "white",
          "plot_bgcolor": "#E5ECF6",
          "polar": {
           "angularaxis": {
            "gridcolor": "white",
            "linecolor": "white",
            "ticks": ""
           },
           "bgcolor": "#E5ECF6",
           "radialaxis": {
            "gridcolor": "white",
            "linecolor": "white",
            "ticks": ""
           }
          },
          "scene": {
           "xaxis": {
            "backgroundcolor": "#E5ECF6",
            "gridcolor": "white",
            "gridwidth": 2,
            "linecolor": "white",
            "showbackground": true,
            "ticks": "",
            "zerolinecolor": "white"
           },
           "yaxis": {
            "backgroundcolor": "#E5ECF6",
            "gridcolor": "white",
            "gridwidth": 2,
            "linecolor": "white",
            "showbackground": true,
            "ticks": "",
            "zerolinecolor": "white"
           },
           "zaxis": {
            "backgroundcolor": "#E5ECF6",
            "gridcolor": "white",
            "gridwidth": 2,
            "linecolor": "white",
            "showbackground": true,
            "ticks": "",
            "zerolinecolor": "white"
           }
          },
          "shapedefaults": {
           "line": {
            "color": "#2a3f5f"
           }
          },
          "ternary": {
           "aaxis": {
            "gridcolor": "white",
            "linecolor": "white",
            "ticks": ""
           },
           "baxis": {
            "gridcolor": "white",
            "linecolor": "white",
            "ticks": ""
           },
           "bgcolor": "#E5ECF6",
           "caxis": {
            "gridcolor": "white",
            "linecolor": "white",
            "ticks": ""
           }
          },
          "title": {
           "x": 0.05
          },
          "xaxis": {
           "automargin": true,
           "gridcolor": "white",
           "linecolor": "white",
           "ticks": "",
           "title": {
            "standoff": 15
           },
           "zerolinecolor": "white",
           "zerolinewidth": 2
          },
          "yaxis": {
           "automargin": true,
           "gridcolor": "white",
           "linecolor": "white",
           "ticks": "",
           "title": {
            "standoff": 15
           },
           "zerolinecolor": "white",
           "zerolinewidth": 2
          }
         }
        },
        "title": {
         "text": "Distribution Of 28928 Events "
        },
        "width": 500,
        "xaxis": {
         "autorange": true,
         "range": [
          -0.5,
          2.5
         ],
         "title": {
          "text": "Event"
         },
         "type": "category"
        },
        "yaxis": {
         "autorange": true,
         "range": [
          0,
          19600
         ],
         "title": {
          "text": "Count"
         },
         "type": "linear"
        }
       }
      },
      "image/png": "[encoded data removed]",
      "text/html": [
       "<div>                            <div id=\"17e40bd7-14a4-45ed-81b0-38f1f06093d3\" class=\"plotly-graph-div\" style=\"height:500px; width:500px;\"></div>            <script type=\"text/javascript\">                require([\"plotly\"], function(Plotly) {                    window.PLOTLYENV=window.PLOTLYENV || {};                                    if (document.getElementById(\"17e40bd7-14a4-45ed-81b0-38f1f06093d3\")) {                    Plotly.newPlot(                        \"17e40bd7-14a4-45ed-81b0-38f1f06093d3\",                        [{\"marker\":{\"color\":\"#db0000\"},\"text\":[\"64.4 %\",\"32.5 %\",\"3.2 %\"],\"textfont\":{\"color\":\"#000000\"},\"textposition\":\"auto\",\"x\":[\"viewed\",\"applied\",\"hired\"],\"y\":[18620,9395,913],\"type\":\"bar\"}],                        {\"autosize\":false,\"height\":500,\"template\":{\"data\":{\"barpolar\":[{\"marker\":{\"line\":{\"color\":\"#E5ECF6\",\"width\":0.5},\"pattern\":{\"fillmode\":\"overlay\",\"size\":10,\"solidity\":0.2}},\"type\":\"barpolar\"}],\"bar\":[{\"error_x\":{\"color\":\"#2a3f5f\"},\"error_y\":{\"color\":\"#2a3f5f\"},\"marker\":{\"line\":{\"color\":\"#E5ECF6\",\"width\":0.5},\"pattern\":{\"fillmode\":\"overlay\",\"size\":10,\"solidity\":0.2}},\"type\":\"bar\"}],\"carpet\":[{\"aaxis\":{\"endlinecolor\":\"#2a3f5f\",\"gridcolor\":\"white\",\"linecolor\":\"white\",\"minorgridcolor\":\"white\",\"startlinecolor\":\"#2a3f5f\"},\"baxis\":{\"endlinecolor\":\"#2a3f5f\",\"gridcolor\":\"white\",\"linecolor\":\"white\",\"minorgridcolor\":\"white\",\"startlinecolor\":\"#2a3f5f\"},\"type\":\"carpet\"}],\"choropleth\":[{\"colorbar\":{\"outlinewidth\":0,\"ticks\":\"\"},\"type\":\"choropleth\"}],\"contourcarpet\":[{\"colorbar\":{\"outlinewidth\":0,\"ticks\":\"\"},\"type\":\"contourcarpet\"}],\"contour\":[{\"colorbar\":{\"outlinewidth\":0,\"ticks\":\"\"},\"colorscale\":[[0.0,\"#0d0887\"],[0.1111111111111111,\"#46039f\"],[0.2222222222222222,\"#7201a8\"],[0.3333333333333333,\"#9c179e\"],[0.4444444444444444,\"#bd3786\"],[0.5555555555555556,\"#d8576b\"],[0.6666666666666666,\"#ed7953\"],[0.7777777777777778,\"#fb9f3a\"],[0.8888888888888888,\"#fdca26\"],[1.0,\"#f0f921\"]],\"type\":\"contour\"}],\"heatmapgl\":[{\"colorbar\":{\"outlinewidth\":0,\"ticks\":\"\"},\"colorscale\":[[0.0,\"#0d0887\"],[0.1111111111111111,\"#46039f\"],[0.2222222222222222,\"#7201a8\"],[0.3333333333333333,\"#9c179e\"],[0.4444444444444444,\"#bd3786\"],[0.5555555555555556,\"#d8576b\"],[0.6666666666666666,\"#ed7953\"],[0.7777777777777778,\"#fb9f3a\"],[0.8888888888888888,\"#fdca26\"],[1.0,\"#f0f921\"]],\"type\":\"heatmapgl\"}],\"heatmap\":[{\"colorbar\":{\"outlinewidth\":0,\"ticks\":\"\"},\"colorscale\":[[0.0,\"#0d0887\"],[0.1111111111111111,\"#46039f\"],[0.2222222222222222,\"#7201a8\"],[0.3333333333333333,\"#9c179e\"],[0.4444444444444444,\"#bd3786\"],[0.5555555555555556,\"#d8576b\"],[0.6666666666666666,\"#ed7953\"],[0.7777777777777778,\"#fb9f3a\"],[0.8888888888888888,\"#fdca26\"],[1.0,\"#f0f921\"]],\"type\":\"heatmap\"}],\"histogram2dcontour\":[{\"colorbar\":{\"outlinewidth\":0,\"ticks\":\"\"},\"colorscale\":[[0.0,\"#0d0887\"],[0.1111111111111111,\"#46039f\"],[0.2222222222222222,\"#7201a8\"],[0.3333333333333333,\"#9c179e\"],[0.4444444444444444,\"#bd3786\"],[0.5555555555555556,\"#d8576b\"],[0.6666666666666666,\"#ed7953\"],[0.7777777777777778,\"#fb9f3a\"],[0.8888888888888888,\"#fdca26\"],[1.0,\"#f0f921\"]],\"type\":\"histogram2dcontour\"}],\"histogram2d\":[{\"colorbar\":{\"outlinewidth\":0,\"ticks\":\"\"},\"colorscale\":[[0.0,\"#0d0887\"],[0.1111111111111111,\"#46039f\"],[0.2222222222222222,\"#7201a8\"],[0.3333333333333333,\"#9c179e\"],[0.4444444444444444,\"#bd3786\"],[0.5555555555555556,\"#d8576b\"],[0.6666666666666666,\"#ed7953\"],[0.7777777777777778,\"#fb9f3a\"],[0.8888888888888888,\"#fdca26\"],[1.0,\"#f0f921\"]],\"type\":\"histogram2d\"}],\"histogram\":[{\"marker\":{\"pattern\":{\"fillmode\":\"overlay\",\"size\":10,\"solidity\":0.2}},\"type\":\"histogram\"}],\"mesh3d\":[{\"colorbar\":{\"outlinewidth\":0,\"ticks\":\"\"},\"type\":\"mesh3d\"}],\"parcoords\":[{\"line\":{\"colorbar\":{\"outlinewidth\":0,\"ticks\":\"\"}},\"type\":\"parcoords\"}],\"pie\":[{\"automargin\":true,\"type\":\"pie\"}],\"scatter3d\":[{\"line\":{\"colorbar\":{\"outlinewidth\":0,\"ticks\":\"\"}},\"marker\":{\"colorbar\":{\"outlinewidth\":0,\"ticks\":\"\"}},\"type\":\"scatter3d\"}],\"scattercarpet\":[{\"marker\":{\"colorbar\":{\"outlinewidth\":0,\"ticks\":\"\"}},\"type\":\"scattercarpet\"}],\"scattergeo\":[{\"marker\":{\"colorbar\":{\"outlinewidth\":0,\"ticks\":\"\"}},\"type\":\"scattergeo\"}],\"scattergl\":[{\"marker\":{\"colorbar\":{\"outlinewidth\":0,\"ticks\":\"\"}},\"type\":\"scattergl\"}],\"scattermapbox\":[{\"marker\":{\"colorbar\":{\"outlinewidth\":0,\"ticks\":\"\"}},\"type\":\"scattermapbox\"}],\"scatterpolargl\":[{\"marker\":{\"colorbar\":{\"outlinewidth\":0,\"ticks\":\"\"}},\"type\":\"scatterpolargl\"}],\"scatterpolar\":[{\"marker\":{\"colorbar\":{\"outlinewidth\":0,\"ticks\":\"\"}},\"type\":\"scatterpolar\"}],\"scatter\":[{\"fillpattern\":{\"fillmode\":\"overlay\",\"size\":10,\"solidity\":0.2},\"type\":\"scatter\"}],\"scatterternary\":[{\"marker\":{\"colorbar\":{\"outlinewidth\":0,\"ticks\":\"\"}},\"type\":\"scatterternary\"}],\"surface\":[{\"colorbar\":{\"outlinewidth\":0,\"ticks\":\"\"},\"colorscale\":[[0.0,\"#0d0887\"],[0.1111111111111111,\"#46039f\"],[0.2222222222222222,\"#7201a8\"],[0.3333333333333333,\"#9c179e\"],[0.4444444444444444,\"#bd3786\"],[0.5555555555555556,\"#d8576b\"],[0.6666666666666666,\"#ed7953\"],[0.7777777777777778,\"#fb9f3a\"],[0.8888888888888888,\"#fdca26\"],[1.0,\"#f0f921\"]],\"type\":\"surface\"}],\"table\":[{\"cells\":{\"fill\":{\"color\":\"#EBF0F8\"},\"line\":{\"color\":\"white\"}},\"header\":{\"fill\":{\"color\":\"#C8D4E3\"},\"line\":{\"color\":\"white\"}},\"type\":\"table\"}]},\"layout\":{\"annotationdefaults\":{\"arrowcolor\":\"#2a3f5f\",\"arrowhead\":0,\"arrowwidth\":1},\"autotypenumbers\":\"strict\",\"coloraxis\":{\"colorbar\":{\"outlinewidth\":0,\"ticks\":\"\"}},\"colorscale\":{\"diverging\":[[0,\"#8e0152\"],[0.1,\"#c51b7d\"],[0.2,\"#de77ae\"],[0.3,\"#f1b6da\"],[0.4,\"#fde0ef\"],[0.5,\"#f7f7f7\"],[0.6,\"#e6f5d0\"],[0.7,\"#b8e186\"],[0.8,\"#7fbc41\"],[0.9,\"#4d9221\"],[1,\"#276419\"]],\"sequential\":[[0.0,\"#0d0887\"],[0.1111111111111111,\"#46039f\"],[0.2222222222222222,\"#7201a8\"],[0.3333333333333333,\"#9c179e\"],[0.4444444444444444,\"#bd3786\"],[0.5555555555555556,\"#d8576b\"],[0.6666666666666666,\"#ed7953\"],[0.7777777777777778,\"#fb9f3a\"],[0.8888888888888888,\"#fdca26\"],[1.0,\"#f0f921\"]],\"sequentialminus\":[[0.0,\"#0d0887\"],[0.1111111111111111,\"#46039f\"],[0.2222222222222222,\"#7201a8\"],[0.3333333333333333,\"#9c179e\"],[0.4444444444444444,\"#bd3786\"],[0.5555555555555556,\"#d8576b\"],[0.6666666666666666,\"#ed7953\"],[0.7777777777777778,\"#fb9f3a\"],[0.8888888888888888,\"#fdca26\"],[1.0,\"#f0f921\"]]},\"colorway\":[\"#636efa\",\"#EF553B\",\"#00cc96\",\"#ab63fa\",\"#FFA15A\",\"#19d3f3\",\"#FF6692\",\"#B6E880\",\"#FF97FF\",\"#FECB52\"],\"font\":{\"color\":\"#2a3f5f\"},\"geo\":{\"bgcolor\":\"white\",\"lakecolor\":\"white\",\"landcolor\":\"#E5ECF6\",\"showlakes\":true,\"showland\":true,\"subunitcolor\":\"white\"},\"hoverlabel\":{\"align\":\"left\"},\"hovermode\":\"closest\",\"mapbox\":{\"style\":\"light\"},\"paper_bgcolor\":\"white\",\"plot_bgcolor\":\"#E5ECF6\",\"polar\":{\"angularaxis\":{\"gridcolor\":\"white\",\"linecolor\":\"white\",\"ticks\":\"\"},\"bgcolor\":\"#E5ECF6\",\"radialaxis\":{\"gridcolor\":\"white\",\"linecolor\":\"white\",\"ticks\":\"\"}},\"scene\":{\"xaxis\":{\"backgroundcolor\":\"#E5ECF6\",\"gridcolor\":\"white\",\"gridwidth\":2,\"linecolor\":\"white\",\"showbackground\":true,\"ticks\":\"\",\"zerolinecolor\":\"white\"},\"yaxis\":{\"backgroundcolor\":\"#E5ECF6\",\"gridcolor\":\"white\",\"gridwidth\":2,\"linecolor\":\"white\",\"showbackground\":true,\"ticks\":\"\",\"zerolinecolor\":\"white\"},\"zaxis\":{\"backgroundcolor\":\"#E5ECF6\",\"gridcolor\":\"white\",\"gridwidth\":2,\"linecolor\":\"white\",\"showbackground\":true,\"ticks\":\"\",\"zerolinecolor\":\"white\"}},\"shapedefaults\":{\"line\":{\"color\":\"#2a3f5f\"}},\"ternary\":{\"aaxis\":{\"gridcolor\":\"white\",\"linecolor\":\"white\",\"ticks\":\"\"},\"baxis\":{\"gridcolor\":\"white\",\"linecolor\":\"white\",\"ticks\":\"\"},\"bgcolor\":\"#E5ECF6\",\"caxis\":{\"gridcolor\":\"white\",\"linecolor\":\"white\",\"ticks\":\"\"}},\"title\":{\"x\":0.05},\"xaxis\":{\"automargin\":true,\"gridcolor\":\"white\",\"linecolor\":\"white\",\"ticks\":\"\",\"title\":{\"standoff\":15},\"zerolinecolor\":\"white\",\"zerolinewidth\":2},\"yaxis\":{\"automargin\":true,\"gridcolor\":\"white\",\"linecolor\":\"white\",\"ticks\":\"\",\"title\":{\"standoff\":15},\"zerolinecolor\":\"white\",\"zerolinewidth\":2}}},\"title\":{\"text\":\"Distribution Of 28928 Events \"},\"width\":500,\"xaxis\":{\"title\":{\"text\":\"Event\"}},\"yaxis\":{\"title\":{\"text\":\"Count\"}}},                        {\"responsive\": true}                    ).then(function(){\n",
       "                            \n",
       "var gd = document.getElementById('17e40bd7-14a4-45ed-81b0-38f1f06093d3');\n",
       "var x = new MutationObserver(function (mutations, observer) {{\n",
       "        var display = window.getComputedStyle(gd).display;\n",
       "        if (!display || display === 'none') {{\n",
       "            console.log([gd, 'removed!']);\n",
       "            Plotly.purge(gd);\n",
       "            observer.disconnect();\n",
       "        }}\n",
       "}});\n",
       "\n",
       "// Listen for the removal of the full notebook cells\n",
       "var notebookContainer = gd.closest('#notebook-container');\n",
       "if (notebookContainer) {{\n",
       "    x.observe(notebookContainer, {childList: true});\n",
       "}}\n",
       "\n",
       "// Listen for the clearing of the current output cell\n",
       "var outputEl = gd.closest('.output');\n",
       "if (outputEl) {{\n",
       "    x.observe(outputEl, {childList: true});\n",
       "}}\n",
       "\n",
       "                        })                };                });            </script>        </div>"
      ]
     },
     "metadata": {},
     "output_type": "display_data"
    }
   ],
   "source": [
    "#print('Different types of Event \\n', data_feedback.Event.value_counts())\n",
    "import plotly.offline as py\n",
    "bar = go.Bar(x = data_feedback.Event.value_counts().index,\n",
    "               text = ['{:.1f} %'.format(val) for val in (data_feedback.Event.value_counts().values / data_feedback.shape[0] * 100)],\n",
    "               textposition = 'auto',\n",
    "               textfont = dict(color = '#000000'),\n",
    "               y = data_feedback.Event.value_counts().values ,\n",
    "               marker = dict(color = '#db0000'))\n",
    "# Create layout\n",
    "layout = dict(title = 'Distribution Of {} Events '.format(data_feedback.shape[0]),\n",
    "              xaxis = dict(title = 'Event'),\n",
    "              yaxis = dict(title = 'Count'))\n",
    "\n",
    "# Create plot\n",
    "fig = go.Figure(data=[bar], layout=layout)\n",
    "fig.update_layout(\n",
    "    autosize=False,\n",
    "    width=500,\n",
    "    height=500,)\n",
    "iplot(fig)\n",
    "\n",
    "#ax = data_fbeedback.Event.hist(grid=False)\n",
    "#ax.set_ylabel('Counts')"
   ]
  },
  {
   "cell_type": "code",
   "execution_count": 10,
   "id": "724ba72a-ea76-4208-a5b7-32e2c8c2cd4a",
   "metadata": {},
   "outputs": [
    {
     "name": "stdout",
     "output_type": "stream",
     "text": [
      "The number of interactions per candidate is 15.54\n"
     ]
    },
    {
     "data": {
      "image/png": "[encoded data removed]",
      "text/plain": [
       "<Figure size 432x288 with 1 Axes>"
      ]
     },
     "metadata": {
      "needs_background": "light"
     },
     "output_type": "display_data"
    }
   ],
   "source": [
    "# nombre d'evt par utilisateurs \n",
    "interactions     = pd.DataFrame(data_feedback.groupby('UserID')['Event'].count()).reset_index(level=0)\n",
    "mean_interaction = interactions.Event.mean()\n",
    "sns.histplot(data=interactions, x='UserID', stat=\"count\", bins=50)\n",
    "#a = ((np.sort(data_feedback.UserID.values.tolist())))\n",
    "\n",
    "print(f'The number of interactions per candidate is {mean_interaction:.2f}' )"
   ]
  },
  {
   "cell_type": "markdown",
   "id": "081a9651-3f36-497d-ba74-72914a8d762a",
   "metadata": {},
   "source": [
    "On s'aperçoit que la plupart des candidats interagissent avec plusieurs offres différentes, parfois plusieurs fois avec la même."
   ]
  },
  {
   "cell_type": "code",
   "execution_count": 11,
   "id": "9841d644-8fb7-40fe-8269-d4c64b076113",
   "metadata": {},
   "outputs": [
    {
     "data": {
      "image/png": "[encoded data removed]",
      "text/plain": [
       "<Figure size 432x288 with 1 Axes>"
      ]
     },
     "metadata": {
      "needs_background": "light"
     },
     "output_type": "display_data"
    },
    {
     "name": "stdout",
     "output_type": "stream",
     "text": [
      "Seul  2.51% des offres d'emploi comptabilisent plus de 50 évenements\n"
     ]
    }
   ],
   "source": [
    "# mesure de la popularité des offres d'emploi  \n",
    "popularity  = pd.DataFrame(data_feedback.groupby('JobID')['Event'].count()).reset_index(level=0)\n",
    "popularity  = popularity.sort_values('Event', ascending=False)\n",
    "popularity  = popularity.reset_index()\n",
    "popularity\n",
    "#mean_interaction = popularity.Event.mean()\n",
    "ax = plt.gca()\n",
    "ax.axes.xaxis.set_ticklabels([])\n",
    "ax.set_title('Distribution of interactions among the JobsID')\n",
    "plt.plot(popularity.index.tolist(), popularity.Event.tolist())\n",
    "plt.xlabel('JobsID')\n",
    "plt.ylabel('Counts')\n",
    "plt.show()\n",
    "print(f'Seul {len(popularity.loc[popularity.Event>50])/len(popularity)* 100: .2f}% des offres d\\'emploi comptabilisent plus de 50 évenements')\n",
    "#sns.plot(data=popularity,y= 'Event', stat=\"count\", bins=50)\n",
    "#a = ((np.sort(data_feedback.UserID.values.tolist())))\n",
    "\n",
    "#print(f'The number of interactions per candidate is {mean_interaction:.2f}' )"
   ]
  },
  {
   "cell_type": "markdown",
   "id": "041604e7-e6f2-42b4-944f-957e87b27881",
   "metadata": {},
   "source": [
    "Une partie infime des offres d'emploi ($2,5 \\%$) recueillent plus de 50 interactions avec les utilisateurs "
   ]
  },
  {
   "cell_type": "markdown",
   "id": "37b80179-70f8-400b-be1c-793896b8e4a0",
   "metadata": {},
   "source": [
    "## 2) Similitude between users of test and users of training"
   ]
  },
  {
   "cell_type": "code",
   "execution_count": 12,
   "id": "2e6ec111-52a2-4f15-b58d-0670cd855989",
   "metadata": {},
   "outputs": [],
   "source": [
    "data_user = data_user.drop(columns= ['Country','City', 'State', 'ZipCode', 'GraduationDate', 'CurrentlyEmployed'])\n",
    "data_test = data_test.drop(columns= ['Country','City', 'State', 'ZipCode', 'GraduationDate', 'CurrentlyEmployed'])"
   ]
  },
  {
   "cell_type": "code",
   "execution_count": 13,
   "id": "fdff0b43-f486-40f4-a51f-af4abb71c8d6",
   "metadata": {},
   "outputs": [
    {
     "data": {
      "text/plain": [
       "No     1860\n",
       "Yes     754\n",
       "Name: ManagedOthers, dtype: int64"
      ]
     },
     "execution_count": 13,
     "metadata": {},
     "output_type": "execute_result"
    }
   ],
   "source": [
    "data_all = pd.concat([data_user, data_test])\n",
    "data_all.Major = data_all.Major.fillna(\"\")\n",
    "data_all.MajorCategoryID = data_all.MajorCategoryID.fillna(\"\")\n",
    "data_all.ManagedOthers.value_counts()"
   ]
  },
  {
   "cell_type": "code",
   "execution_count": 14,
   "id": "9f27c884-dc79-4ddf-87aa-efe9b68026b0",
   "metadata": {},
   "outputs": [
    {
     "data": {
      "text/html": [
       "<div>\n",
       "<style scoped>\n",
       "    .dataframe tbody tr th:only-of-type {\n",
       "        vertical-align: middle;\n",
       "    }\n",
       "\n",
       "    .dataframe tbody tr th {\n",
       "        vertical-align: top;\n",
       "    }\n",
       "\n",
       "    .dataframe thead th {\n",
       "        text-align: right;\n",
       "    }\n",
       "</style>\n",
       "<table border=\"1\" class=\"dataframe\">\n",
       "  <thead>\n",
       "    <tr style=\"text-align: right;\">\n",
       "      <th></th>\n",
       "      <th>UserID</th>\n",
       "      <th>DegreeType</th>\n",
       "      <th>Major</th>\n",
       "      <th>WorkHistoryCount</th>\n",
       "      <th>TotalYearsExperience</th>\n",
       "      <th>ManagedOthers</th>\n",
       "      <th>ManagedHowMany</th>\n",
       "      <th>MajorCategoryID</th>\n",
       "      <th>UserRefID</th>\n",
       "    </tr>\n",
       "  </thead>\n",
       "  <tbody>\n",
       "    <tr>\n",
       "      <th>0</th>\n",
       "      <td>12924</td>\n",
       "      <td>Bachelor's</td>\n",
       "      <td>NaN</td>\n",
       "      <td>4</td>\n",
       "      <td>9.0</td>\n",
       "      <td>No</td>\n",
       "      <td>0</td>\n",
       "      <td>NaN</td>\n",
       "      <td>66137</td>\n",
       "    </tr>\n",
       "    <tr>\n",
       "      <th>1</th>\n",
       "      <td>18947</td>\n",
       "      <td>None</td>\n",
       "      <td>NaN</td>\n",
       "      <td>6</td>\n",
       "      <td>22.0</td>\n",
       "      <td>No</td>\n",
       "      <td>0</td>\n",
       "      <td>NaN</td>\n",
       "      <td>698</td>\n",
       "    </tr>\n",
       "    <tr>\n",
       "      <th>2</th>\n",
       "      <td>20976</td>\n",
       "      <td>Master's</td>\n",
       "      <td>NaN</td>\n",
       "      <td>5</td>\n",
       "      <td>6.0</td>\n",
       "      <td>Yes</td>\n",
       "      <td>6</td>\n",
       "      <td>NaN</td>\n",
       "      <td>138206</td>\n",
       "    </tr>\n",
       "    <tr>\n",
       "      <th>3</th>\n",
       "      <td>21412</td>\n",
       "      <td>None</td>\n",
       "      <td>Basic Studies</td>\n",
       "      <td>5</td>\n",
       "      <td>5.0</td>\n",
       "      <td>No</td>\n",
       "      <td>0</td>\n",
       "      <td>NaN</td>\n",
       "      <td>698</td>\n",
       "    </tr>\n",
       "    <tr>\n",
       "      <th>4</th>\n",
       "      <td>40564</td>\n",
       "      <td>None</td>\n",
       "      <td>NaN</td>\n",
       "      <td>6</td>\n",
       "      <td>5.0</td>\n",
       "      <td>No</td>\n",
       "      <td>0</td>\n",
       "      <td>NaN</td>\n",
       "      <td>698</td>\n",
       "    </tr>\n",
       "    <tr>\n",
       "      <th>...</th>\n",
       "      <td>...</td>\n",
       "      <td>...</td>\n",
       "      <td>...</td>\n",
       "      <td>...</td>\n",
       "      <td>...</td>\n",
       "      <td>...</td>\n",
       "      <td>...</td>\n",
       "      <td>...</td>\n",
       "      <td>...</td>\n",
       "    </tr>\n",
       "    <tr>\n",
       "      <th>272</th>\n",
       "      <td>1454754</td>\n",
       "      <td>Bachelor's</td>\n",
       "      <td>Accounting &amp; Auditing</td>\n",
       "      <td>7</td>\n",
       "      <td>27.0</td>\n",
       "      <td>No</td>\n",
       "      <td>0</td>\n",
       "      <td>NaN</td>\n",
       "      <td>59593</td>\n",
       "    </tr>\n",
       "    <tr>\n",
       "      <th>273</th>\n",
       "      <td>1458384</td>\n",
       "      <td>None</td>\n",
       "      <td>NaN</td>\n",
       "      <td>10</td>\n",
       "      <td>23.0</td>\n",
       "      <td>No</td>\n",
       "      <td>0</td>\n",
       "      <td>NaN</td>\n",
       "      <td>698</td>\n",
       "    </tr>\n",
       "    <tr>\n",
       "      <th>274</th>\n",
       "      <td>1458917</td>\n",
       "      <td>Bachelor's</td>\n",
       "      <td>Telecommunications Management</td>\n",
       "      <td>6</td>\n",
       "      <td>6.0</td>\n",
       "      <td>No</td>\n",
       "      <td>0</td>\n",
       "      <td>NaN</td>\n",
       "      <td>201820</td>\n",
       "    </tr>\n",
       "    <tr>\n",
       "      <th>275</th>\n",
       "      <td>1466313</td>\n",
       "      <td>Master's</td>\n",
       "      <td>Marketing/Management</td>\n",
       "      <td>8</td>\n",
       "      <td>22.0</td>\n",
       "      <td>No</td>\n",
       "      <td>0</td>\n",
       "      <td>NaN</td>\n",
       "      <td>129835</td>\n",
       "    </tr>\n",
       "    <tr>\n",
       "      <th>276</th>\n",
       "      <td>1471500</td>\n",
       "      <td>None</td>\n",
       "      <td>NaN</td>\n",
       "      <td>7</td>\n",
       "      <td>9.0</td>\n",
       "      <td>No</td>\n",
       "      <td>0</td>\n",
       "      <td>NaN</td>\n",
       "      <td>698</td>\n",
       "    </tr>\n",
       "  </tbody>\n",
       "</table>\n",
       "<p>277 rows × 9 columns</p>\n",
       "</div>"
      ],
      "text/plain": [
       "      UserID  DegreeType                          Major  WorkHistoryCount  \\\n",
       "0      12924  Bachelor's                            NaN                 4   \n",
       "1      18947        None                            NaN                 6   \n",
       "2      20976    Master's                            NaN                 5   \n",
       "3      21412        None                  Basic Studies                 5   \n",
       "4      40564        None                            NaN                 6   \n",
       "..       ...         ...                            ...               ...   \n",
       "272  1454754  Bachelor's          Accounting & Auditing                 7   \n",
       "273  1458384        None                            NaN                10   \n",
       "274  1458917  Bachelor's  Telecommunications Management                 6   \n",
       "275  1466313    Master's           Marketing/Management                 8   \n",
       "276  1471500        None                            NaN                 7   \n",
       "\n",
       "     TotalYearsExperience ManagedOthers  ManagedHowMany  MajorCategoryID  \\\n",
       "0                     9.0            No               0              NaN   \n",
       "1                    22.0            No               0              NaN   \n",
       "2                     6.0           Yes               6              NaN   \n",
       "3                     5.0            No               0              NaN   \n",
       "4                     5.0            No               0              NaN   \n",
       "..                    ...           ...             ...              ...   \n",
       "272                  27.0            No               0              NaN   \n",
       "273                  23.0            No               0              NaN   \n",
       "274                   6.0            No               0              NaN   \n",
       "275                  22.0            No               0              NaN   \n",
       "276                   9.0            No               0              NaN   \n",
       "\n",
       "     UserRefID  \n",
       "0        66137  \n",
       "1          698  \n",
       "2       138206  \n",
       "3          698  \n",
       "4          698  \n",
       "..         ...  \n",
       "272      59593  \n",
       "273        698  \n",
       "274     201820  \n",
       "275     129835  \n",
       "276        698  \n",
       "\n",
       "[277 rows x 9 columns]"
      ]
     },
     "execution_count": 14,
     "metadata": {},
     "output_type": "execute_result"
    }
   ],
   "source": [
    "def combined_features(row):\n",
    "    return row['DegreeType']+\" \"+row['Major']+\" \"+row['ManagedOthers']+\" \"+ str(row['MajorCategoryID'])\n",
    "\n",
    "data_all[\"combined_features\"] = data_all.apply(combined_features, axis =1)\n",
    "\n",
    "cv = CountVectorizer()\n",
    "count_matrix = cv.fit_transform(data_all[\"combined_features\"])\n",
    "#print(\"Count Matrix:\", count_matrix.toarray())\n",
    "cos = cosine_similarity(count_matrix)\n",
    "\n",
    "# Recherche du candidat du training le plus proche pour chaque candidat du dataset test\n",
    "\n",
    "\n",
    "max_index = []\n",
    "for i in np.arange(2337, len(data_all)):\n",
    "    row = np.array(cos[i,:])[:2337]\n",
    "    max_index.append(np.argmax(row))\n",
    "data_test['UserRefID'] = [data_user.iloc[i].UserID for i in max_index]\n",
    "data_test"
   ]
  },
  {
   "cell_type": "markdown",
   "id": "d16a0eda-939e-4d99-a68b-ed39f702bde6",
   "metadata": {},
   "source": [
    "## 3) Recommendation Engine with ALS"
   ]
  },
  {
   "cell_type": "code",
   "execution_count": 15,
   "id": "e28ab793-2447-4a8b-90d1-803cc51731a5",
   "metadata": {},
   "outputs": [],
   "source": [
    "# mapping entre les usersID et les indices -utiles pour la suite \n",
    "user_id_mapping = {id:i for i, id in enumerate(data_user['UserID'].unique())}\n",
    "id_user_mapping = {i:id for i, id in enumerate(data_user['UserID'].unique())}\n",
    "\n",
    "# mapping entre les JobsID et les indices -utiles pour la suite \n",
    "job_id_mapping  = {id:i for i, id in enumerate(np.sort(data_feedback['JobID'].unique()))}\n",
    "id_job_mapping  = {i:id for i, id in enumerate(np.sort(data_feedback['JobID'].unique()))}\n"
   ]
  },
  {
   "cell_type": "markdown",
   "id": "fb8435b9-1173-45da-9380-45fa8c15dbd9",
   "metadata": {},
   "source": [
    "### Construction de la matrice d'interactions *data* à partir de data_feedback"
   ]
  },
  {
   "cell_type": "code",
   "execution_count": 16,
   "id": "5deea24a-e882-48a4-a069-0e7af01d84bb",
   "metadata": {},
   "outputs": [
    {
     "name": "stdout",
     "output_type": "stream",
     "text": [
      "[573231, 173609, 758183, 796649, 863240, 317319, 925011, 1051415, 925327, 854431, 852315, 46841, 1055037, 925011, 317319, 1051415, 925327, 854431, 852315, 46841, 1055037, 925011] [1.0, 1.0, 1.0, 1.0, 1.0, 5.0, 10.0, 5.0, 5.0, 5.0, 5.0, 5.0, 5.0, 5.0, 1.0, 1.0, 1.0, 1.0, 1.0, 1.0, 1.0, 1.0]\n"
     ]
    },
    {
     "data": {
      "text/plain": [
       "10"
      ]
     },
     "execution_count": 16,
     "metadata": {},
     "output_type": "execute_result"
    }
   ],
   "source": [
    "# on convertit les évenemnts en 'rating' en attribuant à l'évenement hired le plus grand score pour dénoter un intérêt maximal.\n",
    "rating = {'viewed': 1.,\n",
    "         'applied': 5.,\n",
    "         'hired':   10.}\n",
    "\n",
    "Rating = []\n",
    "\n",
    "data_feedback['Rating'] = data_feedback['Event'].apply(lambda x: rating[x])\n",
    "\n",
    "\n",
    "data = data_feedback.pivot_table(index='UserID', columns='JobID', aggfunc='max', values='Rating', fill_value=0)\n",
    "for user in data_user.UserID.values:\n",
    "    if user not in data_feedback.UserID.values:\n",
    "        data.loc[user] = pd.Series(index = data.columns.tolist(), data=0 )  \n",
    "data = data.sort_index()\n",
    "\n",
    "#  ******************************** Alternative ****************************************** \n",
    "\n",
    "#for index,user in enumerate(data_feedback.UserID.unique().tolist()):\n",
    "#    jobs    = data_feedback.loc[data_feedback.UserID==user].JobID.tolist()\n",
    "#    ratings = data_feedback.loc[data_feedback.UserID==user].Rating.tolist()\n",
    "#    for i,job in enumerate(jobs):\n",
    "#        jobindex = job_id_mapping[job]\n",
    "#        data[index, jobindex]  = ratings[i]\n",
    "#data['UserID'] = data['UserID'].apply(column_dict.get)\n",
    "\n",
    "#  ******************************** For Test purposes Only ******************************************\n",
    "user = 2305\n",
    "jobs    = data_feedback.loc[data_feedback.UserID==user].JobID.tolist()\n",
    "ratings = data_feedback.loc[data_feedback.UserID==user].Rating.tolist()\n",
    "print(jobs, ratings)\n",
    "#data.loc[user, 925011] = ratings[6]\n",
    "data.loc[user][925011]"
   ]
  },
  {
   "cell_type": "markdown",
   "id": "59353908-2fec-40b4-a8dc-125497486dc0",
   "metadata": {},
   "source": [
    "### Entraînemnt du modèle ALS "
   ]
  },
  {
   "cell_type": "code",
   "execution_count": 17,
   "id": "9308fad9-0c29-4ee1-8454-d49d509980d4",
   "metadata": {},
   "outputs": [
    {
     "data": {
      "application/vnd.jupyter.widget-view+json": {
       "model_id": "40f52d27d5394bba8599416125de65fd",
       "version_major": 2,
       "version_minor": 0
      },
      "text/plain": [
       "  0%|          | 0/100 [00:00<?, ?it/s]"
      ]
     },
     "metadata": {},
     "output_type": "display_data"
    }
   ],
   "source": [
    "# The two sparse matrix featuring the interactions between users and jobs \n",
    "\n",
    "job_users       = sparse.csr_matrix(data.T) # for training\n",
    "users_jobs      = job_users.T.tocsr()       # for recommendation \n",
    "\n",
    "# * ******************************* Training ******************************************\n",
    "\n",
    "os.environ['MKL_NUM_THREADS']      = '1' #To avoid multithreading.\n",
    "os.environ['OPENBLAS_NUM_THREADS'] = '1'\n",
    "model = implicit.als.AlternatingLeastSquares(factors = 500, iterations = 100, regularization=100)\n",
    "alpha = 40 # from litterature \n",
    "#job_users = users_jobs.T.tocsr()\n",
    "data_confidence = (job_users*alpha)\n",
    "\n",
    "model.fit(data_confidence)"
   ]
  },
  {
   "cell_type": "markdown",
   "id": "8b9d7bdd-dd28-4295-84ce-9a3c6e61b9f1",
   "metadata": {},
   "source": [
    "### Recommendations du modèle"
   ]
  },
  {
   "cell_type": "markdown",
   "id": "dda9b9c3-485d-4303-bae4-76846e62e4dd",
   "metadata": {},
   "source": [
    "Sur le dataset de training: "
   ]
  },
  {
   "cell_type": "code",
   "execution_count": 18,
   "id": "c93a0177-f505-49e8-9f1d-17892d402acb",
   "metadata": {
    "tags": []
   },
   "outputs": [],
   "source": [
    "Index   = np.arange(np.shape(users_jobs)[0])\n",
    "jobsTraining, scoresTraining = model.recommend(Index, users_jobs[Index], N = 50, filter_already_liked_items=False)"
   ]
  },
  {
   "cell_type": "markdown",
   "id": "a02e8858-5cc6-40a3-957e-9de106eaae57",
   "metadata": {},
   "source": [
    "Sur le dataset de test: "
   ]
  },
  {
   "cell_type": "code",
   "execution_count": 19,
   "id": "7602e669-6eb8-40c1-b4b4-b7e97724ea20",
   "metadata": {
    "tags": []
   },
   "outputs": [
    {
     "data": {
      "text/html": [
       "<div>\n",
       "<style scoped>\n",
       "    .dataframe tbody tr th:only-of-type {\n",
       "        vertical-align: middle;\n",
       "    }\n",
       "\n",
       "    .dataframe tbody tr th {\n",
       "        vertical-align: top;\n",
       "    }\n",
       "\n",
       "    .dataframe thead th {\n",
       "        text-align: right;\n",
       "    }\n",
       "</style>\n",
       "<table border=\"1\" class=\"dataframe\">\n",
       "  <thead>\n",
       "    <tr style=\"text-align: right;\">\n",
       "      <th></th>\n",
       "      <th>UsersID</th>\n",
       "      <th>JobsID</th>\n",
       "      <th>Score</th>\n",
       "    </tr>\n",
       "  </thead>\n",
       "  <tbody>\n",
       "    <tr>\n",
       "      <th>0</th>\n",
       "      <td>12924</td>\n",
       "      <td>39335</td>\n",
       "      <td>0.867455</td>\n",
       "    </tr>\n",
       "    <tr>\n",
       "      <th>1</th>\n",
       "      <td>18947</td>\n",
       "      <td>10692</td>\n",
       "      <td>0.957570</td>\n",
       "    </tr>\n",
       "    <tr>\n",
       "      <th>2</th>\n",
       "      <td>20976</td>\n",
       "      <td>219842</td>\n",
       "      <td>0.721885</td>\n",
       "    </tr>\n",
       "    <tr>\n",
       "      <th>3</th>\n",
       "      <td>21412</td>\n",
       "      <td>10692</td>\n",
       "      <td>0.957570</td>\n",
       "    </tr>\n",
       "    <tr>\n",
       "      <th>4</th>\n",
       "      <td>40564</td>\n",
       "      <td>10692</td>\n",
       "      <td>0.957570</td>\n",
       "    </tr>\n",
       "    <tr>\n",
       "      <th>...</th>\n",
       "      <td>...</td>\n",
       "      <td>...</td>\n",
       "      <td>...</td>\n",
       "    </tr>\n",
       "    <tr>\n",
       "      <th>272</th>\n",
       "      <td>1454754</td>\n",
       "      <td>361813</td>\n",
       "      <td>0.778251</td>\n",
       "    </tr>\n",
       "    <tr>\n",
       "      <th>273</th>\n",
       "      <td>1458384</td>\n",
       "      <td>10692</td>\n",
       "      <td>0.957570</td>\n",
       "    </tr>\n",
       "    <tr>\n",
       "      <th>274</th>\n",
       "      <td>1458917</td>\n",
       "      <td>479577</td>\n",
       "      <td>0.774201</td>\n",
       "    </tr>\n",
       "    <tr>\n",
       "      <th>275</th>\n",
       "      <td>1466313</td>\n",
       "      <td>51960</td>\n",
       "      <td>0.804106</td>\n",
       "    </tr>\n",
       "    <tr>\n",
       "      <th>276</th>\n",
       "      <td>1471500</td>\n",
       "      <td>10692</td>\n",
       "      <td>0.957570</td>\n",
       "    </tr>\n",
       "  </tbody>\n",
       "</table>\n",
       "<p>277 rows × 3 columns</p>\n",
       "</div>"
      ],
      "text/plain": [
       "     UsersID  JobsID     Score\n",
       "0      12924   39335  0.867455\n",
       "1      18947   10692  0.957570\n",
       "2      20976  219842  0.721885\n",
       "3      21412   10692  0.957570\n",
       "4      40564   10692  0.957570\n",
       "..       ...     ...       ...\n",
       "272  1454754  361813  0.778251\n",
       "273  1458384   10692  0.957570\n",
       "274  1458917  479577  0.774201\n",
       "275  1466313   51960  0.804106\n",
       "276  1471500   10692  0.957570\n",
       "\n",
       "[277 rows x 3 columns]"
      ]
     },
     "execution_count": 19,
     "metadata": {},
     "output_type": "execute_result"
    }
   ],
   "source": [
    "usersId     = data_test.UserRefID\n",
    "usersIndex  = [user_id_mapping[users] for users in usersId ]\n",
    "jobsTest, scoresTest = model.recommend(usersIndex, users_jobs[usersIndex], N = 1, filter_already_liked_items=False)\n",
    "recommendations_test = pd.DataFrame({'UsersID': data_test.UserID, 'JobsID': [id_job_mapping[jobs] for jobs in jobsTest.reshape(277)], 'Score': scoresTest.reshape(277)})\n",
    "recommendations_test.to_csv() #  On écrit les recommandations dans un fichier csv:\n",
    "recommendations_test"
   ]
  },
  {
   "cell_type": "markdown",
   "id": "c2321ccd-89e7-4e2b-8258-cb6e42c1f1cc",
   "metadata": {},
   "source": [
    "## 4) Evaluation des performances et discussion des limites  du modèle"
   ]
  },
  {
   "cell_type": "markdown",
   "id": "12e1ae0b-4d20-4d10-8f63-6c0455614fda",
   "metadata": {},
   "source": [
    "On choisit d'évaluer la pertinence des recommendations avec la métrique *mapk* de la librairie ml_metrics"
   ]
  },
  {
   "cell_type": "code",
   "execution_count": 22,
   "id": "0088e98a-1033-45ff-9b72-24f64faa7d15",
   "metadata": {},
   "outputs": [],
   "source": [
    "# ********************************* Score for the training Dataset *******************************************************\n",
    "\n",
    "index_max  = []\n",
    "for row in data.loc[usersId].values:\n",
    "    index_max.append(np.argmax(row))\n",
    "    \n",
    "actualJobs                  = np.array([ id_job_mapping[i] for i in index_max]).reshape(-1,1).tolist()\n",
    "JobsRecommendationsTraining = np.zeros((np.shape(jobsTraining)))\n",
    "\n",
    "for r,row in enumerate(jobsTraining):\n",
    "    for j,index in enumerate(row):\n",
    "        JobsRecommendationsTraining[r,j] = id_job_mapping[index]\n",
    "        \n",
    "JobsRecommendationsTraining.reshape(-1,1).tolist()\n",
    "ml_metrics.mapk(actualJobs, JobsRecommendationsTraining, k=50)\n",
    "\n",
    "# ********************************* Score for the test Dataset *******************************************************\n",
    "\n",
    "#actual = data.iloc[:,index_max]\n",
    "JobRecommendation = recommendations_test['JobsID'].values.reshape(-1,1).tolist()\n",
    "score = ml_metrics.mapk(actualJobs, JobRecommendation)\n"
   ]
  },
  {
   "cell_type": "markdown",
   "id": "05fbe532-9672-43e3-a6db-5e6c75b12cc7",
   "metadata": {
    "tags": []
   },
   "source": [
    "## Discussion sur la stratégie adoptée\n",
    "- Les performances sont très faibles mais il faudrait comparer avec un 'dummy' model qui ne recommande  que les offres d'emploi les plus populaires. \n",
    "- On a fait le choix de ne pas intégrer le data_history qui pourtant pourrait être pris en compte dans la matrice d'interactions, notemment en prenant JobCategoryID comme indicateur d'intérêt pour les offres d'emploi concernés. A noter qu'on ne dispose pas d'historiques pour les candidats test. \n",
    "- On pourrait aller plus loin dans les similitudes des profils de candidats en établissant des clusters de profils avec un AE par exemple. \n",
    "\n"
   ]
  }
 ],
 "metadata": {
  "kernelspec": {
   "display_name": "Python 3",
   "language": "python",
   "name": "python3"
  },
  "language_info": {
   "codemirror_mode": {
    "name": "ipython",
    "version": 3
   },
   "file_extension": ".py",
   "mimetype": "text/x-python",
   "name": "python",
   "nbconvert_exporter": "python",
   "pygments_lexer": "ipython3",
   "version": "3.8.8"
  }
 },
 "nbformat": 4,
 "nbformat_minor": 5
}
